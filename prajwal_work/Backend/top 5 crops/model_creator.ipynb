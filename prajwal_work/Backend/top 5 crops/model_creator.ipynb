{
 "cells": [
  {
   "cell_type": "code",
   "execution_count": 1,
   "id": "6b9dc236",
   "metadata": {},
   "outputs": [],
   "source": [
    "\n",
    "import pandas as pd\n",
    "from sklearn.model_selection import train_test_split\n",
    "from sklearn.svm import SVR\n",
    "from sklearn.ensemble import RandomForestRegressor\n",
    "from sklearn.metrics import mean_absolute_error,mean_squared_error,r2_score\n",
    "import math\n",
    "import pickle\n",
    "\n"
   ]
  },
  {
   "cell_type": "code",
   "execution_count": 10,
   "id": "0189a2b0",
   "metadata": {},
   "outputs": [],
   "source": [
    "\n",
    "def createModel(dataset):\n",
    "    df=pd.read_csv(dataset)\n",
    "    print(df.head(5))\n",
    "    new_df= df.drop(['Dist Name','State Name'],axis=1)\n",
    "    \n",
    "    X= new_df.iloc[: , 0:3 ]\n",
    "    Y=new_df.iloc[ : ,5:6]\n",
    "\n",
    "\n",
    "    X_train, X_test, y_train, y_test = train_test_split(X, Y, test_size=0.33, random_state=42)\n",
    "    regressor = RandomForestRegressor()\n",
    "    regressor.fit(X_train, y_train)\n",
    "    \n",
    "    y_pred=regressor.predict(X_test)\n",
    "    \n",
    "    r2score=r2_score(y_test,y_pred)\n",
    "    rmse=math.sqrt(mean_squared_error(y_test,y_pred))\n",
    "    # Assuming 'model' is your trained machine learning model object\n",
    "    with open(f'{dataset[:-12]}.pkl', 'wb') as file:\n",
    "        pickle.dump(regressor, file)\n",
    "    \n",
    "    return [dataset, r2score,rmse]\n",
    "    "
   ]
  },
  {
   "cell_type": "code",
   "execution_count": 11,
   "id": "0816fe94",
   "metadata": {},
   "outputs": [
    {
     "name": "stdout",
     "output_type": "stream",
     "text": [
      "   Dist Code  Year  State Code    State Name Dist Name  COTTON AREA (1000 ha)  \\\n",
      "0          1  2008          14  Chhattisgarh      Durg                   0.01   \n",
      "1          1  2009          14  Chhattisgarh      Durg                   0.01   \n",
      "2          1  2010          14  Chhattisgarh      Durg                   0.00   \n",
      "3          1  2011          14  Chhattisgarh      Durg                   0.08   \n",
      "4          1  2012          14  Chhattisgarh      Durg                   0.13   \n",
      "\n",
      "   COTTON PRODUCTION (1000 tons)  COTTON YIELD (Kg per ha)  \n",
      "0                           0.01                   1000.00  \n",
      "1                           0.00                      0.00  \n",
      "2                           0.00                      0.00  \n",
      "3                           0.02                    250.00  \n",
      "4                           0.02                    153.85  \n"
     ]
    },
    {
     "name": "stderr",
     "output_type": "stream",
     "text": [
      "C:\\Users\\DELL\\AppData\\Local\\Temp/ipykernel_31088/3478390199.py:12: DataConversionWarning: A column-vector y was passed when a 1d array was expected. Please change the shape of y to (n_samples,), for example using ravel().\n",
      "  regressor.fit(X_train, y_train)\n"
     ]
    },
    {
     "name": "stdout",
     "output_type": "stream",
     "text": [
      "['./cotton overall.csv', 0.6364608329807996, 153.1483267489263]\n"
     ]
    }
   ],
   "source": [
    "print(createModel(\"./cotton overall.csv\"))"
   ]
  },
  {
   "cell_type": "code",
   "execution_count": 12,
   "id": "d7ab0274",
   "metadata": {},
   "outputs": [
    {
     "name": "stdout",
     "output_type": "stream",
     "text": [
      "   Dist Code  Year  State Code    State Name Dist Name  \\\n",
      "0          1  2008          14  Chhattisgarh      Durg   \n",
      "1          1  2009          14  Chhattisgarh      Durg   \n",
      "2          1  2010          14  Chhattisgarh      Durg   \n",
      "3          1  2011          14  Chhattisgarh      Durg   \n",
      "4          1  2012          14  Chhattisgarh      Durg   \n",
      "\n",
      "   GROUNDNUT AREA (1000 ha)  GROUNDNUT PRODUCTION (1000 tons)  \\\n",
      "0                      0.46                              0.72   \n",
      "1                      0.56                              1.02   \n",
      "2                      0.51                              0.96   \n",
      "3                      0.54                              0.84   \n",
      "4                      0.48                              0.72   \n",
      "\n",
      "   GROUNDNUT YIELD (Kg per ha)  \n",
      "0                      1567.28  \n",
      "1                      1814.16  \n",
      "2                      1861.60  \n",
      "3                      1561.11  \n",
      "4                      1502.72  \n"
     ]
    },
    {
     "name": "stderr",
     "output_type": "stream",
     "text": [
      "C:\\Users\\DELL\\AppData\\Local\\Temp/ipykernel_31088/3478390199.py:12: DataConversionWarning: A column-vector y was passed when a 1d array was expected. Please change the shape of y to (n_samples,), for example using ravel().\n",
      "  regressor.fit(X_train, y_train)\n"
     ]
    },
    {
     "name": "stdout",
     "output_type": "stream",
     "text": [
      "['./groundnut overall.csv', 0.7663094369829035, 390.68442028042233]\n"
     ]
    }
   ],
   "source": [
    "print(createModel(\"./groundnut overall.csv\"))"
   ]
  },
  {
   "cell_type": "code",
   "execution_count": 13,
   "id": "0335be49",
   "metadata": {},
   "outputs": [
    {
     "name": "stdout",
     "output_type": "stream",
     "text": [
      "   Dist Code  Year  State Code    State Name Dist Name  \\\n",
      "0          1  2008          14  Chhattisgarh      Durg   \n",
      "1          1  2009          14  Chhattisgarh      Durg   \n",
      "2          1  2010          14  Chhattisgarh      Durg   \n",
      "3          1  2011          14  Chhattisgarh      Durg   \n",
      "4          1  2012          14  Chhattisgarh      Durg   \n",
      "\n",
      "   SUGARCANE AREA (1000 ha)  SUGARCANE PRODUCTION (1000 tons)  \\\n",
      "0                      7.54                              0.84   \n",
      "1                      7.13                              1.65   \n",
      "2                      4.42                              1.13   \n",
      "3                      4.07                              2.06   \n",
      "4                      4.97                              1.26   \n",
      "\n",
      "   SUGARCANE YIELD (Kg per ha)  \n",
      "0                       111.70  \n",
      "1                       231.58  \n",
      "2                       256.96  \n",
      "3                       506.02  \n",
      "4                       252.98  \n"
     ]
    },
    {
     "name": "stderr",
     "output_type": "stream",
     "text": [
      "C:\\Users\\DELL\\AppData\\Local\\Temp/ipykernel_31088/3478390199.py:12: DataConversionWarning: A column-vector y was passed when a 1d array was expected. Please change the shape of y to (n_samples,), for example using ravel().\n",
      "  regressor.fit(X_train, y_train)\n"
     ]
    },
    {
     "name": "stdout",
     "output_type": "stream",
     "text": [
      "['sugarcane overall.csv', 0.748220177784498, 1758.3647938047202]\n"
     ]
    }
   ],
   "source": [
    "print(createModel('sugarcane overall.csv'))"
   ]
  },
  {
   "cell_type": "code",
   "execution_count": 14,
   "id": "d88dff89",
   "metadata": {},
   "outputs": [
    {
     "name": "stdout",
     "output_type": "stream",
     "text": [
      "   Dist Code  Year  State Code    State Name Dist Name  \\\n",
      "0          1  2008          14  Chhattisgarh      Durg   \n",
      "1          1  2009          14  Chhattisgarh      Durg   \n",
      "2          1  2010          14  Chhattisgarh      Durg   \n",
      "3          1  2011          14  Chhattisgarh      Durg   \n",
      "4          1  2012          14  Chhattisgarh      Durg   \n",
      "\n",
      "   SOYABEAN AREA (1000 ha)  SOYABEAN PRODUCTION (1000 tons)  \\\n",
      "0                    70.14                            66.01   \n",
      "1                    72.21                            64.92   \n",
      "2                    91.77                           105.41   \n",
      "3                    87.07                            69.83   \n",
      "4                    85.05                           101.62   \n",
      "\n",
      "   SOYABEAN YIELD (Kg per ha)  \n",
      "0                      941.19  \n",
      "1                      898.97  \n",
      "2                     1148.66  \n",
      "3                      802.03  \n",
      "4                     1194.76  \n"
     ]
    },
    {
     "name": "stderr",
     "output_type": "stream",
     "text": [
      "C:\\Users\\DELL\\AppData\\Local\\Temp/ipykernel_31088/3478390199.py:12: DataConversionWarning: A column-vector y was passed when a 1d array was expected. Please change the shape of y to (n_samples,), for example using ravel().\n",
      "  regressor.fit(X_train, y_train)\n"
     ]
    },
    {
     "name": "stdout",
     "output_type": "stream",
     "text": [
      "['./soyabean overall.csv', 0.706216927511105, 342.45696637114395]\n"
     ]
    }
   ],
   "source": [
    "print(createModel('./soyabean overall.csv'))"
   ]
  },
  {
   "cell_type": "code",
   "execution_count": 15,
   "id": "8a9dd29b",
   "metadata": {},
   "outputs": [
    {
     "name": "stdout",
     "output_type": "stream",
     "text": [
      "   Dist Code  Year  State Code    State Name Dist Name  WHEAT AREA (1000 ha)  \\\n",
      "0          1  2008          14  Chhattisgarh      Durg                 36.46   \n",
      "1          1  2009          14  Chhattisgarh      Durg                 42.44   \n",
      "2          1  2010          14  Chhattisgarh      Durg                 46.12   \n",
      "3          1  2011          14  Chhattisgarh      Durg                 44.98   \n",
      "4          1  2012          14  Chhattisgarh      Durg                 43.87   \n",
      "\n",
      "   WHEAT PRODUCTION (1000 tons)  WHEAT YIELD (Kg per ha)  \n",
      "0                         31.19                   855.47  \n",
      "1                         38.12                   898.09  \n",
      "2                         45.87                   994.69  \n",
      "3                         50.19                  1115.68  \n",
      "4                         47.69                  1087.10  \n"
     ]
    },
    {
     "name": "stderr",
     "output_type": "stream",
     "text": [
      "C:\\Users\\DELL\\AppData\\Local\\Temp/ipykernel_31088/3478390199.py:12: DataConversionWarning: A column-vector y was passed when a 1d array was expected. Please change the shape of y to (n_samples,), for example using ravel().\n",
      "  regressor.fit(X_train, y_train)\n"
     ]
    },
    {
     "name": "stdout",
     "output_type": "stream",
     "text": [
      "['wheat overall.csv', 0.8994474911732109, 421.70204093144355]\n"
     ]
    }
   ],
   "source": [
    "print(createModel('wheat overall.csv'))"
   ]
  },
  {
   "cell_type": "code",
   "execution_count": 16,
   "id": "03cb0917",
   "metadata": {},
   "outputs": [],
   "source": [
    "\n",
    "def createModel2(dataset):\n",
    "    df=pd.read_csv(dataset)\n",
    "    print(df.head(5))\n",
    "    new_df= df.drop(['Dist Name','State Name'],axis=1)\n",
    "    \n",
    "    X= new_df.iloc[: , 0:3 ]\n",
    "    Y=new_df.iloc[ : ,5:6]\n",
    "\n",
    "\n",
    "    X_train, X_test, y_train, y_test = train_test_split(X, Y, test_size=0.33, random_state=42)\n",
    "    regressor = SVR()\n",
    "    regressor.fit(X_train, y_train)\n",
    "    \n",
    "    y_pred=regressor.predict(X_test)\n",
    "    \n",
    "    r2score=r2_score(y_test,y_pred)\n",
    "    rmse=math.sqrt(mean_squared_error(y_test,y_pred))\n",
    "    \n",
    "    \n",
    "    return [dataset, r2score,rmse]"
   ]
  },
  {
   "cell_type": "code",
   "execution_count": 17,
   "id": "2c468d2a",
   "metadata": {},
   "outputs": [
    {
     "name": "stdout",
     "output_type": "stream",
     "text": [
      "   Dist Code  Year  State Code    State Name Dist Name  WHEAT AREA (1000 ha)  \\\n",
      "0          1  2008          14  Chhattisgarh      Durg                 36.46   \n",
      "1          1  2009          14  Chhattisgarh      Durg                 42.44   \n",
      "2          1  2010          14  Chhattisgarh      Durg                 46.12   \n",
      "3          1  2011          14  Chhattisgarh      Durg                 44.98   \n",
      "4          1  2012          14  Chhattisgarh      Durg                 43.87   \n",
      "\n",
      "   WHEAT PRODUCTION (1000 tons)  WHEAT YIELD (Kg per ha)  \n",
      "0                         31.19                   855.47  \n",
      "1                         38.12                   898.09  \n",
      "2                         45.87                   994.69  \n",
      "3                         50.19                  1115.68  \n",
      "4                         47.69                  1087.10  \n"
     ]
    },
    {
     "name": "stderr",
     "output_type": "stream",
     "text": [
      "C:\\Users\\DELL\\AppData\\Local\\Programs\\Python\\Python39\\lib\\site-packages\\sklearn\\utils\\validation.py:1143: DataConversionWarning: A column-vector y was passed when a 1d array was expected. Please change the shape of y to (n_samples, ), for example using ravel().\n",
      "  y = column_or_1d(y, warn=True)\n"
     ]
    },
    {
     "name": "stdout",
     "output_type": "stream",
     "text": [
      "['wheat overall.csv', 0.0005722630487096092, 1329.4896065689293]\n"
     ]
    }
   ],
   "source": [
    "print(createModel2('wheat overall.csv'))"
   ]
  },
  {
   "cell_type": "code",
   "execution_count": null,
   "id": "21203654",
   "metadata": {},
   "outputs": [],
   "source": []
  }
 ],
 "metadata": {
  "kernelspec": {
   "display_name": "Python 3 (ipykernel)",
   "language": "python",
   "name": "python3"
  },
  "language_info": {
   "codemirror_mode": {
    "name": "ipython",
    "version": 3
   },
   "file_extension": ".py",
   "mimetype": "text/x-python",
   "name": "python",
   "nbconvert_exporter": "python",
   "pygments_lexer": "ipython3",
   "version": "3.9.7"
  }
 },
 "nbformat": 4,
 "nbformat_minor": 5
}
