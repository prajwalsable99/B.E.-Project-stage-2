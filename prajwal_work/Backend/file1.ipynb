{
 "cells": [
  {
   "cell_type": "code",
   "execution_count": 1,
   "id": "aeaaa507",
   "metadata": {},
   "outputs": [],
   "source": [
    "import pandas as pd"
   ]
  },
  {
   "cell_type": "code",
   "execution_count": 2,
   "id": "bc9770d8",
   "metadata": {},
   "outputs": [
    {
     "data": {
      "text/html": [
       "<div>\n",
       "<style scoped>\n",
       "    .dataframe tbody tr th:only-of-type {\n",
       "        vertical-align: middle;\n",
       "    }\n",
       "\n",
       "    .dataframe tbody tr th {\n",
       "        vertical-align: top;\n",
       "    }\n",
       "\n",
       "    .dataframe thead th {\n",
       "        text-align: right;\n",
       "    }\n",
       "</style>\n",
       "<table border=\"1\" class=\"dataframe\">\n",
       "  <thead>\n",
       "    <tr style=\"text-align: right;\">\n",
       "      <th></th>\n",
       "      <th>Dist Code</th>\n",
       "      <th>Year</th>\n",
       "      <th>State Code</th>\n",
       "      <th>State Name</th>\n",
       "      <th>Dist Name</th>\n",
       "      <th>RICE AREA (1000 ha)</th>\n",
       "      <th>RICE PRODUCTION (1000 tons)</th>\n",
       "      <th>RICE YIELD (Kg per ha)</th>\n",
       "    </tr>\n",
       "  </thead>\n",
       "  <tbody>\n",
       "    <tr>\n",
       "      <th>0</th>\n",
       "      <td>92</td>\n",
       "      <td>2013</td>\n",
       "      <td>11</td>\n",
       "      <td>Tamil Nadu</td>\n",
       "      <td>Thirunelveli</td>\n",
       "      <td>74.01</td>\n",
       "      <td>418.44</td>\n",
       "      <td>5653.83</td>\n",
       "    </tr>\n",
       "    <tr>\n",
       "      <th>1</th>\n",
       "      <td>94</td>\n",
       "      <td>2011</td>\n",
       "      <td>11</td>\n",
       "      <td>Tamil Nadu</td>\n",
       "      <td>Kanyakumari</td>\n",
       "      <td>16.62</td>\n",
       "      <td>90.11</td>\n",
       "      <td>5421.78</td>\n",
       "    </tr>\n",
       "    <tr>\n",
       "      <th>2</th>\n",
       "      <td>18</td>\n",
       "      <td>2017</td>\n",
       "      <td>6</td>\n",
       "      <td>Madhya Pradesh</td>\n",
       "      <td>Rewa</td>\n",
       "      <td>121.30</td>\n",
       "      <td>625.90</td>\n",
       "      <td>5159.93</td>\n",
       "    </tr>\n",
       "    <tr>\n",
       "      <th>3</th>\n",
       "      <td>86</td>\n",
       "      <td>2014</td>\n",
       "      <td>11</td>\n",
       "      <td>Tamil Nadu</td>\n",
       "      <td>Salem</td>\n",
       "      <td>67.32</td>\n",
       "      <td>345.33</td>\n",
       "      <td>5129.68</td>\n",
       "    </tr>\n",
       "    <tr>\n",
       "      <th>4</th>\n",
       "      <td>92</td>\n",
       "      <td>2014</td>\n",
       "      <td>11</td>\n",
       "      <td>Tamil Nadu</td>\n",
       "      <td>Thirunelveli</td>\n",
       "      <td>101.10</td>\n",
       "      <td>517.33</td>\n",
       "      <td>5117.01</td>\n",
       "    </tr>\n",
       "  </tbody>\n",
       "</table>\n",
       "</div>"
      ],
      "text/plain": [
       "   Dist Code  Year  State Code      State Name     Dist Name  \\\n",
       "0         92  2013          11      Tamil Nadu  Thirunelveli   \n",
       "1         94  2011          11      Tamil Nadu   Kanyakumari   \n",
       "2         18  2017           6  Madhya Pradesh          Rewa   \n",
       "3         86  2014          11      Tamil Nadu         Salem   \n",
       "4         92  2014          11      Tamil Nadu  Thirunelveli   \n",
       "\n",
       "   RICE AREA (1000 ha)  RICE PRODUCTION (1000 tons)  RICE YIELD (Kg per ha)  \n",
       "0                74.01                       418.44                 5653.83  \n",
       "1                16.62                        90.11                 5421.78  \n",
       "2               121.30                       625.90                 5159.93  \n",
       "3                67.32                       345.33                 5129.68  \n",
       "4               101.10                       517.33                 5117.01  "
      ]
     },
     "execution_count": 2,
     "metadata": {},
     "output_type": "execute_result"
    }
   ],
   "source": [
    "\n",
    "df=pd.read_csv('./rice dataset overall india.csv')\n",
    "df.head()"
   ]
  },
  {
   "cell_type": "code",
   "execution_count": null,
   "id": "627c9321",
   "metadata": {},
   "outputs": [],
   "source": []
  },
  {
   "cell_type": "code",
   "execution_count": 3,
   "id": "7b82ce02",
   "metadata": {},
   "outputs": [],
   "source": [
    "\n",
    "states =df['State Name'].unique()\n",
    "states_len=len(states)"
   ]
  },
  {
   "cell_type": "code",
   "execution_count": 4,
   "id": "81107322",
   "metadata": {},
   "outputs": [
    {
     "data": {
      "text/plain": [
       "20"
      ]
     },
     "execution_count": 4,
     "metadata": {},
     "output_type": "execute_result"
    }
   ],
   "source": [
    "states_len"
   ]
  },
  {
   "cell_type": "code",
   "execution_count": 5,
   "id": "03494b05",
   "metadata": {},
   "outputs": [
    {
     "data": {
      "text/plain": [
       "array(['Tamil Nadu', 'Madhya Pradesh', 'Punjab', 'Andhra Pradesh',\n",
       "       'Jharkhand', 'Rajasthan', 'Telangana', 'Haryana', 'Karnataka',\n",
       "       'Bihar', 'Orissa', 'West Bengal', 'Uttarakhand', 'Maharashtra',\n",
       "       'Gujarat', 'Uttar Pradesh', 'Kerala', 'Himachal Pradesh',\n",
       "       'Chhattisgarh', 'Assam'], dtype=object)"
      ]
     },
     "execution_count": 5,
     "metadata": {},
     "output_type": "execute_result"
    }
   ],
   "source": [
    "states"
   ]
  },
  {
   "cell_type": "code",
   "execution_count": 6,
   "id": "0e25a35e",
   "metadata": {},
   "outputs": [],
   "source": [
    "new_df= df.drop(['Dist Name','State Name'],axis=1)"
   ]
  },
  {
   "cell_type": "code",
   "execution_count": 7,
   "id": "c557790a",
   "metadata": {},
   "outputs": [
    {
     "data": {
      "text/html": [
       "<div>\n",
       "<style scoped>\n",
       "    .dataframe tbody tr th:only-of-type {\n",
       "        vertical-align: middle;\n",
       "    }\n",
       "\n",
       "    .dataframe tbody tr th {\n",
       "        vertical-align: top;\n",
       "    }\n",
       "\n",
       "    .dataframe thead th {\n",
       "        text-align: right;\n",
       "    }\n",
       "</style>\n",
       "<table border=\"1\" class=\"dataframe\">\n",
       "  <thead>\n",
       "    <tr style=\"text-align: right;\">\n",
       "      <th></th>\n",
       "      <th>Dist Code</th>\n",
       "      <th>Year</th>\n",
       "      <th>State Code</th>\n",
       "      <th>RICE AREA (1000 ha)</th>\n",
       "      <th>RICE PRODUCTION (1000 tons)</th>\n",
       "      <th>RICE YIELD (Kg per ha)</th>\n",
       "    </tr>\n",
       "  </thead>\n",
       "  <tbody>\n",
       "    <tr>\n",
       "      <th>0</th>\n",
       "      <td>92</td>\n",
       "      <td>2013</td>\n",
       "      <td>11</td>\n",
       "      <td>74.01</td>\n",
       "      <td>418.44</td>\n",
       "      <td>5653.83</td>\n",
       "    </tr>\n",
       "    <tr>\n",
       "      <th>1</th>\n",
       "      <td>94</td>\n",
       "      <td>2011</td>\n",
       "      <td>11</td>\n",
       "      <td>16.62</td>\n",
       "      <td>90.11</td>\n",
       "      <td>5421.78</td>\n",
       "    </tr>\n",
       "    <tr>\n",
       "      <th>2</th>\n",
       "      <td>18</td>\n",
       "      <td>2017</td>\n",
       "      <td>6</td>\n",
       "      <td>121.30</td>\n",
       "      <td>625.90</td>\n",
       "      <td>5159.93</td>\n",
       "    </tr>\n",
       "    <tr>\n",
       "      <th>3</th>\n",
       "      <td>86</td>\n",
       "      <td>2014</td>\n",
       "      <td>11</td>\n",
       "      <td>67.32</td>\n",
       "      <td>345.33</td>\n",
       "      <td>5129.68</td>\n",
       "    </tr>\n",
       "    <tr>\n",
       "      <th>4</th>\n",
       "      <td>92</td>\n",
       "      <td>2014</td>\n",
       "      <td>11</td>\n",
       "      <td>101.10</td>\n",
       "      <td>517.33</td>\n",
       "      <td>5117.01</td>\n",
       "    </tr>\n",
       "    <tr>\n",
       "      <th>...</th>\n",
       "      <td>...</td>\n",
       "      <td>...</td>\n",
       "      <td>...</td>\n",
       "      <td>...</td>\n",
       "      <td>...</td>\n",
       "      <td>...</td>\n",
       "    </tr>\n",
       "    <tr>\n",
       "      <th>3101</th>\n",
       "      <td>632</td>\n",
       "      <td>2013</td>\n",
       "      <td>18</td>\n",
       "      <td>0.00</td>\n",
       "      <td>0.00</td>\n",
       "      <td>0.00</td>\n",
       "    </tr>\n",
       "    <tr>\n",
       "      <th>3102</th>\n",
       "      <td>632</td>\n",
       "      <td>2014</td>\n",
       "      <td>18</td>\n",
       "      <td>0.00</td>\n",
       "      <td>0.00</td>\n",
       "      <td>0.00</td>\n",
       "    </tr>\n",
       "    <tr>\n",
       "      <th>3103</th>\n",
       "      <td>632</td>\n",
       "      <td>2015</td>\n",
       "      <td>18</td>\n",
       "      <td>0.00</td>\n",
       "      <td>0.00</td>\n",
       "      <td>0.00</td>\n",
       "    </tr>\n",
       "    <tr>\n",
       "      <th>3104</th>\n",
       "      <td>632</td>\n",
       "      <td>2016</td>\n",
       "      <td>18</td>\n",
       "      <td>0.00</td>\n",
       "      <td>0.00</td>\n",
       "      <td>0.00</td>\n",
       "    </tr>\n",
       "    <tr>\n",
       "      <th>3105</th>\n",
       "      <td>632</td>\n",
       "      <td>2017</td>\n",
       "      <td>18</td>\n",
       "      <td>0.00</td>\n",
       "      <td>0.00</td>\n",
       "      <td>0.00</td>\n",
       "    </tr>\n",
       "  </tbody>\n",
       "</table>\n",
       "<p>3106 rows × 6 columns</p>\n",
       "</div>"
      ],
      "text/plain": [
       "      Dist Code  Year  State Code  RICE AREA (1000 ha)  \\\n",
       "0            92  2013          11                74.01   \n",
       "1            94  2011          11                16.62   \n",
       "2            18  2017           6               121.30   \n",
       "3            86  2014          11                67.32   \n",
       "4            92  2014          11               101.10   \n",
       "...         ...   ...         ...                  ...   \n",
       "3101        632  2013          18                 0.00   \n",
       "3102        632  2014          18                 0.00   \n",
       "3103        632  2015          18                 0.00   \n",
       "3104        632  2016          18                 0.00   \n",
       "3105        632  2017          18                 0.00   \n",
       "\n",
       "      RICE PRODUCTION (1000 tons)  RICE YIELD (Kg per ha)  \n",
       "0                          418.44                 5653.83  \n",
       "1                           90.11                 5421.78  \n",
       "2                          625.90                 5159.93  \n",
       "3                          345.33                 5129.68  \n",
       "4                          517.33                 5117.01  \n",
       "...                           ...                     ...  \n",
       "3101                         0.00                    0.00  \n",
       "3102                         0.00                    0.00  \n",
       "3103                         0.00                    0.00  \n",
       "3104                         0.00                    0.00  \n",
       "3105                         0.00                    0.00  \n",
       "\n",
       "[3106 rows x 6 columns]"
      ]
     },
     "execution_count": 7,
     "metadata": {},
     "output_type": "execute_result"
    }
   ],
   "source": [
    "new_df"
   ]
  },
  {
   "cell_type": "code",
   "execution_count": 8,
   "id": "1cc18037",
   "metadata": {},
   "outputs": [
    {
     "data": {
      "text/html": [
       "<div>\n",
       "<style scoped>\n",
       "    .dataframe tbody tr th:only-of-type {\n",
       "        vertical-align: middle;\n",
       "    }\n",
       "\n",
       "    .dataframe tbody tr th {\n",
       "        vertical-align: top;\n",
       "    }\n",
       "\n",
       "    .dataframe thead th {\n",
       "        text-align: right;\n",
       "    }\n",
       "</style>\n",
       "<table border=\"1\" class=\"dataframe\">\n",
       "  <thead>\n",
       "    <tr style=\"text-align: right;\">\n",
       "      <th></th>\n",
       "      <th>RICE YIELD (Kg per ha)</th>\n",
       "    </tr>\n",
       "  </thead>\n",
       "  <tbody>\n",
       "    <tr>\n",
       "      <th>0</th>\n",
       "      <td>5653.83</td>\n",
       "    </tr>\n",
       "    <tr>\n",
       "      <th>1</th>\n",
       "      <td>5421.78</td>\n",
       "    </tr>\n",
       "    <tr>\n",
       "      <th>2</th>\n",
       "      <td>5159.93</td>\n",
       "    </tr>\n",
       "    <tr>\n",
       "      <th>3</th>\n",
       "      <td>5129.68</td>\n",
       "    </tr>\n",
       "    <tr>\n",
       "      <th>4</th>\n",
       "      <td>5117.01</td>\n",
       "    </tr>\n",
       "    <tr>\n",
       "      <th>...</th>\n",
       "      <td>...</td>\n",
       "    </tr>\n",
       "    <tr>\n",
       "      <th>3101</th>\n",
       "      <td>0.00</td>\n",
       "    </tr>\n",
       "    <tr>\n",
       "      <th>3102</th>\n",
       "      <td>0.00</td>\n",
       "    </tr>\n",
       "    <tr>\n",
       "      <th>3103</th>\n",
       "      <td>0.00</td>\n",
       "    </tr>\n",
       "    <tr>\n",
       "      <th>3104</th>\n",
       "      <td>0.00</td>\n",
       "    </tr>\n",
       "    <tr>\n",
       "      <th>3105</th>\n",
       "      <td>0.00</td>\n",
       "    </tr>\n",
       "  </tbody>\n",
       "</table>\n",
       "<p>3106 rows × 1 columns</p>\n",
       "</div>"
      ],
      "text/plain": [
       "      RICE YIELD (Kg per ha)\n",
       "0                    5653.83\n",
       "1                    5421.78\n",
       "2                    5159.93\n",
       "3                    5129.68\n",
       "4                    5117.01\n",
       "...                      ...\n",
       "3101                    0.00\n",
       "3102                    0.00\n",
       "3103                    0.00\n",
       "3104                    0.00\n",
       "3105                    0.00\n",
       "\n",
       "[3106 rows x 1 columns]"
      ]
     },
     "execution_count": 8,
     "metadata": {},
     "output_type": "execute_result"
    }
   ],
   "source": [
    "X= new_df.iloc[: , 0:3 ]\n",
    "Y=new_df.iloc[ : ,5:6]\n",
    "Y"
   ]
  },
  {
   "cell_type": "code",
   "execution_count": 9,
   "id": "e21c4ad5",
   "metadata": {},
   "outputs": [],
   "source": [
    "from sklearn.model_selection import train_test_split\n",
    "X_train, X_test, y_train, y_test = train_test_split(X, Y, test_size=0.33, random_state=42)"
   ]
  },
  {
   "cell_type": "code",
   "execution_count": 10,
   "id": "84dbcc3b",
   "metadata": {},
   "outputs": [
    {
     "name": "stderr",
     "output_type": "stream",
     "text": [
      "C:\\Users\\DELL\\AppData\\Local\\Temp/ipykernel_25464/1342620265.py:4: DataConversionWarning: A column-vector y was passed when a 1d array was expected. Please change the shape of y to (n_samples,), for example using ravel().\n",
      "  regressor.fit(X_train, y_train)\n"
     ]
    },
    {
     "data": {
      "text/plain": [
       "RandomForestRegressor()"
      ]
     },
     "execution_count": 10,
     "metadata": {},
     "output_type": "execute_result"
    }
   ],
   "source": [
    "from sklearn.svm import SVR\n",
    "from sklearn.ensemble import RandomForestRegressor\n",
    "regressor = RandomForestRegressor()\n",
    "regressor.fit(X_train, y_train)\n"
   ]
  },
  {
   "cell_type": "code",
   "execution_count": 11,
   "id": "a4a97ecd",
   "metadata": {},
   "outputs": [],
   "source": [
    "y_pred = regressor.predict(X_test)\n"
   ]
  },
  {
   "cell_type": "code",
   "execution_count": 12,
   "id": "447df004",
   "metadata": {},
   "outputs": [
    {
     "data": {
      "text/plain": [
       "array([4278.8507, 3479.9221,  473.6889, ..., 3622.2395, 4471.2499,\n",
       "       1863.4857])"
      ]
     },
     "execution_count": 12,
     "metadata": {},
     "output_type": "execute_result"
    }
   ],
   "source": [
    "y_pred"
   ]
  },
  {
   "cell_type": "code",
   "execution_count": 13,
   "id": "93e613c2",
   "metadata": {},
   "outputs": [
    {
     "data": {
      "text/html": [
       "<div>\n",
       "<style scoped>\n",
       "    .dataframe tbody tr th:only-of-type {\n",
       "        vertical-align: middle;\n",
       "    }\n",
       "\n",
       "    .dataframe tbody tr th {\n",
       "        vertical-align: top;\n",
       "    }\n",
       "\n",
       "    .dataframe thead th {\n",
       "        text-align: right;\n",
       "    }\n",
       "</style>\n",
       "<table border=\"1\" class=\"dataframe\">\n",
       "  <thead>\n",
       "    <tr style=\"text-align: right;\">\n",
       "      <th></th>\n",
       "      <th>RICE YIELD (Kg per ha)</th>\n",
       "    </tr>\n",
       "  </thead>\n",
       "  <tbody>\n",
       "    <tr>\n",
       "      <th>152</th>\n",
       "      <td>3949.44</td>\n",
       "    </tr>\n",
       "    <tr>\n",
       "      <th>299</th>\n",
       "      <td>3475.97</td>\n",
       "    </tr>\n",
       "    <tr>\n",
       "      <th>2663</th>\n",
       "      <td>670.00</td>\n",
       "    </tr>\n",
       "    <tr>\n",
       "      <th>1712</th>\n",
       "      <td>2000.00</td>\n",
       "    </tr>\n",
       "    <tr>\n",
       "      <th>314</th>\n",
       "      <td>3427.84</td>\n",
       "    </tr>\n",
       "    <tr>\n",
       "      <th>...</th>\n",
       "      <td>...</td>\n",
       "    </tr>\n",
       "    <tr>\n",
       "      <th>2816</th>\n",
       "      <td>0.00</td>\n",
       "    </tr>\n",
       "    <tr>\n",
       "      <th>440</th>\n",
       "      <td>3138.39</td>\n",
       "    </tr>\n",
       "    <tr>\n",
       "      <th>508</th>\n",
       "      <td>3033.49</td>\n",
       "    </tr>\n",
       "    <tr>\n",
       "      <th>76</th>\n",
       "      <td>4304.78</td>\n",
       "    </tr>\n",
       "    <tr>\n",
       "      <th>589</th>\n",
       "      <td>2900.71</td>\n",
       "    </tr>\n",
       "  </tbody>\n",
       "</table>\n",
       "<p>1025 rows × 1 columns</p>\n",
       "</div>"
      ],
      "text/plain": [
       "      RICE YIELD (Kg per ha)\n",
       "152                  3949.44\n",
       "299                  3475.97\n",
       "2663                  670.00\n",
       "1712                 2000.00\n",
       "314                  3427.84\n",
       "...                      ...\n",
       "2816                    0.00\n",
       "440                  3138.39\n",
       "508                  3033.49\n",
       "76                   4304.78\n",
       "589                  2900.71\n",
       "\n",
       "[1025 rows x 1 columns]"
      ]
     },
     "execution_count": 13,
     "metadata": {},
     "output_type": "execute_result"
    }
   ],
   "source": [
    "y_test"
   ]
  },
  {
   "cell_type": "code",
   "execution_count": 14,
   "id": "77ecf1a9",
   "metadata": {},
   "outputs": [],
   "source": [
    "from sklearn.metrics import mean_absolute_error,mean_squared_error,r2_score\n",
    "\n"
   ]
  },
  {
   "cell_type": "code",
   "execution_count": 15,
   "id": "9af67930",
   "metadata": {},
   "outputs": [
    {
     "name": "stderr",
     "output_type": "stream",
     "text": [
      "C:\\Users\\DELL\\AppData\\Local\\Programs\\Python\\Python39\\lib\\site-packages\\sklearn\\base.py:441: UserWarning: X does not have valid feature names, but RandomForestRegressor was fitted with feature names\n",
      "  warnings.warn(\n"
     ]
    },
    {
     "data": {
      "text/plain": [
       "array([5003.7991])"
      ]
     },
     "execution_count": 15,
     "metadata": {},
     "output_type": "execute_result"
    }
   ],
   "source": [
    "regressor.predict([[86,2014,11]])"
   ]
  },
  {
   "cell_type": "code",
   "execution_count": 16,
   "id": "82151565",
   "metadata": {},
   "outputs": [
    {
     "data": {
      "text/plain": [
       "416.7458243250202"
      ]
     },
     "execution_count": 16,
     "metadata": {},
     "output_type": "execute_result"
    }
   ],
   "source": [
    "import math\n",
    "math.sqrt(mean_squared_error(y_test,y_pred))"
   ]
  },
  {
   "cell_type": "code",
   "execution_count": 17,
   "id": "e11e32a0",
   "metadata": {},
   "outputs": [
    {
     "data": {
      "text/plain": [
       "0.8674597334221701"
      ]
     },
     "execution_count": 17,
     "metadata": {},
     "output_type": "execute_result"
    }
   ],
   "source": [
    "r2_score(y_test,y_pred)"
   ]
  },
  {
   "cell_type": "code",
   "execution_count": 18,
   "id": "2b896a42",
   "metadata": {},
   "outputs": [
    {
     "data": {
      "text/html": [
       "<div>\n",
       "<style scoped>\n",
       "    .dataframe tbody tr th:only-of-type {\n",
       "        vertical-align: middle;\n",
       "    }\n",
       "\n",
       "    .dataframe tbody tr th {\n",
       "        vertical-align: top;\n",
       "    }\n",
       "\n",
       "    .dataframe thead th {\n",
       "        text-align: right;\n",
       "    }\n",
       "</style>\n",
       "<table border=\"1\" class=\"dataframe\">\n",
       "  <thead>\n",
       "    <tr style=\"text-align: right;\">\n",
       "      <th></th>\n",
       "      <th>Dist Code</th>\n",
       "      <th>Year</th>\n",
       "      <th>State Code</th>\n",
       "      <th>State Name</th>\n",
       "      <th>Dist Name</th>\n",
       "      <th>RICE AREA (1000 ha)</th>\n",
       "      <th>RICE PRODUCTION (1000 tons)</th>\n",
       "      <th>RICE YIELD (Kg per ha)</th>\n",
       "    </tr>\n",
       "  </thead>\n",
       "  <tbody>\n",
       "    <tr>\n",
       "      <th>805</th>\n",
       "      <td>98</td>\n",
       "      <td>2008</td>\n",
       "      <td>7</td>\n",
       "      <td>Maharashtra</td>\n",
       "      <td>Ratnagiri</td>\n",
       "      <td>156.00</td>\n",
       "      <td>417.10</td>\n",
       "      <td>2673.72</td>\n",
       "    </tr>\n",
       "    <tr>\n",
       "      <th>878</th>\n",
       "      <td>98</td>\n",
       "      <td>2009</td>\n",
       "      <td>7</td>\n",
       "      <td>Maharashtra</td>\n",
       "      <td>Ratnagiri</td>\n",
       "      <td>155.90</td>\n",
       "      <td>407.55</td>\n",
       "      <td>2614.18</td>\n",
       "    </tr>\n",
       "    <tr>\n",
       "      <th>722</th>\n",
       "      <td>98</td>\n",
       "      <td>2010</td>\n",
       "      <td>7</td>\n",
       "      <td>Maharashtra</td>\n",
       "      <td>Ratnagiri</td>\n",
       "      <td>156.00</td>\n",
       "      <td>430.11</td>\n",
       "      <td>2757.12</td>\n",
       "    </tr>\n",
       "    <tr>\n",
       "      <th>668</th>\n",
       "      <td>98</td>\n",
       "      <td>2011</td>\n",
       "      <td>7</td>\n",
       "      <td>Maharashtra</td>\n",
       "      <td>Ratnagiri</td>\n",
       "      <td>155.50</td>\n",
       "      <td>437.44</td>\n",
       "      <td>2813.12</td>\n",
       "    </tr>\n",
       "    <tr>\n",
       "      <th>640</th>\n",
       "      <td>98</td>\n",
       "      <td>2012</td>\n",
       "      <td>7</td>\n",
       "      <td>Maharashtra</td>\n",
       "      <td>Ratnagiri</td>\n",
       "      <td>150.70</td>\n",
       "      <td>428.18</td>\n",
       "      <td>2841.27</td>\n",
       "    </tr>\n",
       "    <tr>\n",
       "      <th>509</th>\n",
       "      <td>98</td>\n",
       "      <td>2013</td>\n",
       "      <td>7</td>\n",
       "      <td>Maharashtra</td>\n",
       "      <td>Ratnagiri</td>\n",
       "      <td>148.90</td>\n",
       "      <td>451.60</td>\n",
       "      <td>3032.91</td>\n",
       "    </tr>\n",
       "    <tr>\n",
       "      <th>434</th>\n",
       "      <td>98</td>\n",
       "      <td>2014</td>\n",
       "      <td>7</td>\n",
       "      <td>Maharashtra</td>\n",
       "      <td>Ratnagiri</td>\n",
       "      <td>142.50</td>\n",
       "      <td>448.30</td>\n",
       "      <td>3145.96</td>\n",
       "    </tr>\n",
       "    <tr>\n",
       "      <th>801</th>\n",
       "      <td>98</td>\n",
       "      <td>2015</td>\n",
       "      <td>7</td>\n",
       "      <td>Maharashtra</td>\n",
       "      <td>Ratnagiri</td>\n",
       "      <td>138.20</td>\n",
       "      <td>370.20</td>\n",
       "      <td>2678.73</td>\n",
       "    </tr>\n",
       "    <tr>\n",
       "      <th>413</th>\n",
       "      <td>98</td>\n",
       "      <td>2016</td>\n",
       "      <td>7</td>\n",
       "      <td>Maharashtra</td>\n",
       "      <td>Ratnagiri</td>\n",
       "      <td>139.34</td>\n",
       "      <td>445.30</td>\n",
       "      <td>3195.78</td>\n",
       "    </tr>\n",
       "    <tr>\n",
       "      <th>466</th>\n",
       "      <td>98</td>\n",
       "      <td>2017</td>\n",
       "      <td>7</td>\n",
       "      <td>Maharashtra</td>\n",
       "      <td>Ratnagiri</td>\n",
       "      <td>139.25</td>\n",
       "      <td>430.70</td>\n",
       "      <td>3093.02</td>\n",
       "    </tr>\n",
       "  </tbody>\n",
       "</table>\n",
       "</div>"
      ],
      "text/plain": [
       "     Dist Code  Year  State Code   State Name  Dist Name  RICE AREA (1000 ha)  \\\n",
       "805         98  2008           7  Maharashtra  Ratnagiri               156.00   \n",
       "878         98  2009           7  Maharashtra  Ratnagiri               155.90   \n",
       "722         98  2010           7  Maharashtra  Ratnagiri               156.00   \n",
       "668         98  2011           7  Maharashtra  Ratnagiri               155.50   \n",
       "640         98  2012           7  Maharashtra  Ratnagiri               150.70   \n",
       "509         98  2013           7  Maharashtra  Ratnagiri               148.90   \n",
       "434         98  2014           7  Maharashtra  Ratnagiri               142.50   \n",
       "801         98  2015           7  Maharashtra  Ratnagiri               138.20   \n",
       "413         98  2016           7  Maharashtra  Ratnagiri               139.34   \n",
       "466         98  2017           7  Maharashtra  Ratnagiri               139.25   \n",
       "\n",
       "     RICE PRODUCTION (1000 tons)  RICE YIELD (Kg per ha)  \n",
       "805                       417.10                 2673.72  \n",
       "878                       407.55                 2614.18  \n",
       "722                       430.11                 2757.12  \n",
       "668                       437.44                 2813.12  \n",
       "640                       428.18                 2841.27  \n",
       "509                       451.60                 3032.91  \n",
       "434                       448.30                 3145.96  \n",
       "801                       370.20                 2678.73  \n",
       "413                       445.30                 3195.78  \n",
       "466                       430.70                 3093.02  "
      ]
     },
     "execution_count": 18,
     "metadata": {},
     "output_type": "execute_result"
    }
   ],
   "source": [
    "df.loc[df['Dist Name'] == 'Ratnagiri'].sort_values('Year', ascending=True)"
   ]
  },
  {
   "cell_type": "code",
   "execution_count": 19,
   "id": "ccac1608",
   "metadata": {},
   "outputs": [
    {
     "name": "stderr",
     "output_type": "stream",
     "text": [
      "C:\\Users\\DELL\\AppData\\Local\\Programs\\Python\\Python39\\lib\\site-packages\\sklearn\\base.py:441: UserWarning: X does not have valid feature names, but RandomForestRegressor was fitted with feature names\n",
      "  warnings.warn(\n"
     ]
    },
    {
     "data": {
      "text/plain": [
       "array([3048.7487])"
      ]
     },
     "execution_count": 19,
     "metadata": {},
     "output_type": "execute_result"
    }
   ],
   "source": [
    "regressor.predict([[98,2018,7]])"
   ]
  },
  {
   "cell_type": "code",
   "execution_count": 20,
   "id": "577fb28a",
   "metadata": {},
   "outputs": [
    {
     "data": {
      "text/plain": [
       "'\\n\\n1. random forest regressor perfroms better than svm\\n2. factors considered year,dist,state for rice yield (kg/ha) pred  \\n3. data set consist of years (2008-2019) so somwhat it is like forecatsing\\n4. r^2 score = 0.8 which is considered as good.\\n5. but it is just simple ,we would like to add more features and scaling might help more. \\n6. also the major tasks will be to merge oother factors like temp,rainfal,... into these dataset\\n7. also we have to think whether we shoud create differnt model for differnt crops or same for all crops.\\n8. Also we can make recommendtaionm model which can suggest what will be better choice of crop at current scenario.\\n9. if we get the crop market valueof certain year then we can add more value to prediction\\n\\n'"
      ]
     },
     "execution_count": 20,
     "metadata": {},
     "output_type": "execute_result"
    }
   ],
   "source": [
    "\n",
    "\n",
    "# conclusion\n",
    "'''\n",
    "\n",
    "1. random forest regressor perfroms better than svm\n",
    "2. factors considered year,dist,state for rice yield (kg/ha) pred  \n",
    "3. data set consist of years (2008-2019) so somwhat it is like forecatsing\n",
    "4. r^2 score = 0.8 which is considered as good.\n",
    "5. but it is just simple ,we would like to add more features and scaling might help more. \n",
    "6. also the major tasks will be to merge oother factors like temp,rainfal,... into these dataset\n",
    "7. also we have to think whether we shoud create differnt model for differnt crops or same for all crops.\n",
    "8. Also we can make recommendtaionm model which can suggest what will be better choice of crop at current scenario.\n",
    "9. if we get the crop market valueof certain year then we can add more value to prediction\n",
    "\n",
    "'''\n"
   ]
  },
  {
   "cell_type": "code",
   "execution_count": 21,
   "id": "da1c7cbd",
   "metadata": {},
   "outputs": [],
   "source": [
    "fil=df[ ['State Name','State Code','Dist Name','Dist Code' ]].drop_duplicates().sort_values(['State Name', 'Dist Name' ], ascending=True)"
   ]
  },
  {
   "cell_type": "code",
   "execution_count": 22,
   "id": "993efa3c",
   "metadata": {},
   "outputs": [],
   "source": [
    "grouped = fil.groupby('State Name')\n",
    "result = []\n",
    "for state, group in grouped:\n",
    "    state_dict = {'State Name': state, 'State Code': group.iloc[0]['State Code'], 'Districts': group[['Dist Name', 'Dist Code']].to_dict('records')}\n",
    "    result.append(state_dict)\n",
    "\n",
    "# convert the list of dictionaries to a JSON string\n",
    "json_str = pd.io.json.dumps(result)\n",
    "\n",
    "# print(json_str)"
   ]
  },
  {
   "cell_type": "code",
   "execution_count": 23,
   "id": "351204b8",
   "metadata": {},
   "outputs": [],
   "source": [
    "\n",
    "# print(json_str)"
   ]
  },
  {
   "cell_type": "code",
   "execution_count": 24,
   "id": "d74932a0",
   "metadata": {},
   "outputs": [],
   "source": [
    "import json\n",
    "\n",
    "\n",
    "\n",
    "# parse the JSON string to a Python object\n",
    "data = json.loads(json_str)\n",
    "\n",
    "# write the Python object to a JSON file\n",
    "with open('data.json', 'w') as f:\n",
    "    json.dump(data, f)"
   ]
  },
  {
   "cell_type": "code",
   "execution_count": 25,
   "id": "9e5754e1",
   "metadata": {},
   "outputs": [],
   "source": [
    "import pickle\n",
    "\n",
    "# Assuming 'model' is your trained machine learning model object\n",
    "with open('model.pkl', 'wb') as file:\n",
    "    pickle.dump(regressor, file)"
   ]
  },
  {
   "cell_type": "code",
   "execution_count": null,
   "id": "5864d383",
   "metadata": {},
   "outputs": [],
   "source": []
  }
 ],
 "metadata": {
  "kernelspec": {
   "display_name": "Python 3 (ipykernel)",
   "language": "python",
   "name": "python3"
  },
  "language_info": {
   "codemirror_mode": {
    "name": "ipython",
    "version": 3
   },
   "file_extension": ".py",
   "mimetype": "text/x-python",
   "name": "python",
   "nbconvert_exporter": "python",
   "pygments_lexer": "ipython3",
   "version": "3.9.7"
  },
  "vscode": {
   "interpreter": {
    "hash": "5addf786bcd861d1ce5006f23111f8cbb206731e5b61b0a5632ba9e0252558a8"
   }
  }
 },
 "nbformat": 4,
 "nbformat_minor": 5
}
